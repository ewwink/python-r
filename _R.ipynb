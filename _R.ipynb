{
 "cells": [
  {
   "cell_type": "code",
   "execution_count": null,
   "metadata": {},
   "outputs": [],
   "source": [
    "library('rvest')\n",
    "\n",
    "url <- 'https://www.google.com/search?q=tasikmalaya'\n",
    "googleurl <- read_html(url)\n",
    "address <- html_nodes(googleurl,'.r')\n",
    "\n",
    "url_ <- address %>%\n",
    "  html_nodes(\"a\") %>%\n",
    "  html_attr(\"href\")\n",
    "title <- html_text(address)\n",
    "print(title)"
   ]
  }
 ],
 "metadata": {
  "kernelspec": {
   "display_name": "R",
   "language": "R",
   "name": "ir"
  },
  "language_info": {
   "codemirror_mode": "r",
   "file_extension": ".r",
   "mimetype": "text/x-r-source",
   "name": "R",
   "pygments_lexer": "r",
   "version": "3.5.1"
  }
 },
 "nbformat": 4,
 "nbformat_minor": 2
}
